{
 "cells": [
  {
   "cell_type": "code",
   "execution_count": 44,
   "id": "9740e739-b7e9-433f-b226-f1f2b5734f9f",
   "metadata": {},
   "outputs": [],
   "source": [
    "# Improting all the required libraries \n",
    "\n",
    "from pathlib import Path\n",
    "import pandas as pd\n",
    "from sklearn.model_selection import train_test_split\n",
    "import matplotlib.pyplot as plt\n",
    "from imblearn.metrics import classification_report_imbalanced\n",
    "from sklearn.metrics import accuracy_score, classification_report\n",
    "from sklearn.linear_model import LogisticRegression\n",
    "from sklearn.metrics import confusion_matrix\n",
    "from sklearn.preprocessing import StandardScaler\n",
    "from sklearn.ensemble import RandomForestClassifier\n",
    "from sklearn.preprocessing import OneHotEncoder\n",
    "import pickle\n",
    "from sklearn import tree"
   ]
  },
  {
   "cell_type": "code",
   "execution_count": 2,
   "id": "dc00498e-213f-450b-8c05-bb147c8d98dc",
   "metadata": {},
   "outputs": [],
   "source": [
    "# Reading the main dataframe (credit_df) \n",
    "credit_df = pd.read_csv(Path('Resources/credit_df.csv'))"
   ]
  },
  {
   "cell_type": "code",
   "execution_count": 3,
   "id": "21a52228-988f-4db6-9695-e7568edfdd56",
   "metadata": {},
   "outputs": [
    {
     "data": {
      "text/html": [
       "<div>\n",
       "<style scoped>\n",
       "    .dataframe tbody tr th:only-of-type {\n",
       "        vertical-align: middle;\n",
       "    }\n",
       "\n",
       "    .dataframe tbody tr th {\n",
       "        vertical-align: top;\n",
       "    }\n",
       "\n",
       "    .dataframe thead th {\n",
       "        text-align: right;\n",
       "    }\n",
       "</style>\n",
       "<table border=\"1\" class=\"dataframe\">\n",
       "  <thead>\n",
       "    <tr style=\"text-align: right;\">\n",
       "      <th></th>\n",
       "      <th>monthly_revenue</th>\n",
       "      <th>loanAmt</th>\n",
       "      <th>businessHistory</th>\n",
       "      <th>industry</th>\n",
       "      <th>zipCode</th>\n",
       "      <th>hasProperty</th>\n",
       "      <th>otherLoan</th>\n",
       "      <th>cash</th>\n",
       "      <th>directorAge</th>\n",
       "      <th>taxReturn</th>\n",
       "      <th>isDefault</th>\n",
       "    </tr>\n",
       "  </thead>\n",
       "  <tbody>\n",
       "    <tr>\n",
       "      <th>0</th>\n",
       "      <td>7648</td>\n",
       "      <td>25308</td>\n",
       "      <td>1</td>\n",
       "      <td>RentalHiringAndTrade</td>\n",
       "      <td>269</td>\n",
       "      <td>1</td>\n",
       "      <td>0</td>\n",
       "      <td>8344</td>\n",
       "      <td>36</td>\n",
       "      <td>12415</td>\n",
       "      <td>1</td>\n",
       "    </tr>\n",
       "    <tr>\n",
       "      <th>1</th>\n",
       "      <td>2155</td>\n",
       "      <td>31561</td>\n",
       "      <td>1</td>\n",
       "      <td>Construction</td>\n",
       "      <td>2920</td>\n",
       "      <td>1</td>\n",
       "      <td>0</td>\n",
       "      <td>6286</td>\n",
       "      <td>35</td>\n",
       "      <td>11258</td>\n",
       "      <td>1</td>\n",
       "    </tr>\n",
       "    <tr>\n",
       "      <th>2</th>\n",
       "      <td>14857</td>\n",
       "      <td>47539</td>\n",
       "      <td>1</td>\n",
       "      <td>InformationMediaAndTelecommunications</td>\n",
       "      <td>2968</td>\n",
       "      <td>0</td>\n",
       "      <td>0</td>\n",
       "      <td>7546</td>\n",
       "      <td>43</td>\n",
       "      <td>10838</td>\n",
       "      <td>1</td>\n",
       "    </tr>\n",
       "    <tr>\n",
       "      <th>3</th>\n",
       "      <td>12398</td>\n",
       "      <td>86986</td>\n",
       "      <td>2</td>\n",
       "      <td>Manufacturing</td>\n",
       "      <td>2920</td>\n",
       "      <td>0</td>\n",
       "      <td>0</td>\n",
       "      <td>806</td>\n",
       "      <td>59</td>\n",
       "      <td>4261</td>\n",
       "      <td>1</td>\n",
       "    </tr>\n",
       "    <tr>\n",
       "      <th>4</th>\n",
       "      <td>1616</td>\n",
       "      <td>96287</td>\n",
       "      <td>1</td>\n",
       "      <td>Transport,PostalAndWarehousing</td>\n",
       "      <td>2628</td>\n",
       "      <td>0</td>\n",
       "      <td>0</td>\n",
       "      <td>4135</td>\n",
       "      <td>38</td>\n",
       "      <td>2989</td>\n",
       "      <td>1</td>\n",
       "    </tr>\n",
       "  </tbody>\n",
       "</table>\n",
       "</div>"
      ],
      "text/plain": [
       "   monthly_revenue  loanAmt  businessHistory  \\\n",
       "0             7648    25308                1   \n",
       "1             2155    31561                1   \n",
       "2            14857    47539                1   \n",
       "3            12398    86986                2   \n",
       "4             1616    96287                1   \n",
       "\n",
       "                                industry  zipCode  hasProperty  otherLoan  \\\n",
       "0                   RentalHiringAndTrade      269            1          0   \n",
       "1                           Construction     2920            1          0   \n",
       "2  InformationMediaAndTelecommunications     2968            0          0   \n",
       "3                          Manufacturing     2920            0          0   \n",
       "4         Transport,PostalAndWarehousing     2628            0          0   \n",
       "\n",
       "   cash  directorAge  taxReturn  isDefault  \n",
       "0  8344           36      12415          1  \n",
       "1  6286           35      11258          1  \n",
       "2  7546           43      10838          1  \n",
       "3   806           59       4261          1  \n",
       "4  4135           38       2989          1  "
      ]
     },
     "execution_count": 3,
     "metadata": {},
     "output_type": "execute_result"
    }
   ],
   "source": [
    "# Checking the first 5 rows of the data \n",
    "credit_df.head()"
   ]
  },
  {
   "cell_type": "code",
   "execution_count": 4,
   "id": "d7ef401d-a5ce-449d-a6d2-edca11ce4397",
   "metadata": {},
   "outputs": [],
   "source": [
    "# Using get_dummies function for 'industry' columns\n",
    "industry_dummies = pd.get_dummies(credit_df['industry'])"
   ]
  },
  {
   "cell_type": "code",
   "execution_count": 5,
   "id": "fba30902-232e-4783-97fb-d5e1e3da3295",
   "metadata": {},
   "outputs": [],
   "source": [
    "# Adding the get_dummies dataframe to the main dataframe\n",
    "credit_df = pd.concat([credit_df, industry_dummies], axis=1)\n"
   ]
  },
  {
   "cell_type": "code",
   "execution_count": 6,
   "id": "5cdce968-d078-4a4b-b72b-b7a1e388e91e",
   "metadata": {},
   "outputs": [
    {
     "data": {
      "text/plain": [
       "(49992, 28)"
      ]
     },
     "execution_count": 6,
     "metadata": {},
     "output_type": "execute_result"
    }
   ],
   "source": [
    "# Checking the shape of the main dataframe (credit_df) \n",
    "credit_df.shape"
   ]
  },
  {
   "cell_type": "code",
   "execution_count": 7,
   "id": "a55f1804-5f13-4750-ad98-bbe3a293a1a4",
   "metadata": {},
   "outputs": [],
   "source": [
    "# Dropping the 'industry' column after using get_dummies function \n",
    "credit_df =credit_df.drop(columns=['industry'])"
   ]
  },
  {
   "cell_type": "code",
   "execution_count": 8,
   "id": "bdedb194-df9f-4233-817f-4afc3d8d5d31",
   "metadata": {},
   "outputs": [
    {
     "data": {
      "text/plain": [
       "1    34408\n",
       "0    15584\n",
       "Name: isDefault, dtype: int64"
      ]
     },
     "execution_count": 8,
     "metadata": {},
     "output_type": "execute_result"
    }
   ],
   "source": [
    "# Evaluating the 'isDefault' data to see the balance for module training \n",
    "credit_df['isDefault'].value_counts()\n",
    "\n",
    "# Can see an unbalanced data (will need to balance it before running the module)"
   ]
  },
  {
   "cell_type": "code",
   "execution_count": 9,
   "id": "6e3d8b05-857d-42e5-b329-141acc06e177",
   "metadata": {},
   "outputs": [],
   "source": [
    "# Assigning the X to the features of the \n",
    "X = credit_df.drop(columns=['isDefault'])\n",
    "y = credit_df['isDefault']"
   ]
  },
  {
   "cell_type": "code",
   "execution_count": 10,
   "id": "0e2c510c-2b79-49ab-9891-698304118750",
   "metadata": {},
   "outputs": [],
   "source": [
    "X_train, X_test, y_train, y_test = train_test_split(X, y)"
   ]
  },
  {
   "cell_type": "markdown",
   "id": "e3273eb7-9703-47a5-9e8f-f0be4edfdbe6",
   "metadata": {},
   "source": [
    "### StandardScaler\n",
    "-------"
   ]
  },
  {
   "cell_type": "code",
   "execution_count": 11,
   "id": "b1bd6325-9706-4388-829c-7a13e035ee92",
   "metadata": {},
   "outputs": [],
   "source": [
    "# Instantiate a StandardScaler instance\n",
    "scaler = StandardScaler()\n",
    "\n",
    "# Fit the training data to the standard scaler\n",
    "X_scaler = scaler.fit(X_train)\n",
    "\n",
    "# Transform the training data using the scaler\n",
    "X_train_scaled = X_scaler.transform(X_train)\n",
    "X_test_scaled = X_scaler.transform(X_test)"
   ]
  },
  {
   "cell_type": "code",
   "execution_count": 12,
   "id": "87c15c8c-8e32-4319-9a8a-eb7d9fa50a0c",
   "metadata": {},
   "outputs": [],
   "source": [
    "# Saving the StandardScaler to be used in the UI (streamlit) \n",
    "pickle.dump(scaler,open('Scaler.pkl','wb'))"
   ]
  },
  {
   "cell_type": "code",
   "execution_count": 13,
   "id": "8ff2e471-6140-454c-8287-6717dd31b45f",
   "metadata": {},
   "outputs": [
    {
     "data": {
      "text/html": [
       "<div>\n",
       "<style scoped>\n",
       "    .dataframe tbody tr th:only-of-type {\n",
       "        vertical-align: middle;\n",
       "    }\n",
       "\n",
       "    .dataframe tbody tr th {\n",
       "        vertical-align: top;\n",
       "    }\n",
       "\n",
       "    .dataframe thead th {\n",
       "        text-align: right;\n",
       "    }\n",
       "</style>\n",
       "<table border=\"1\" class=\"dataframe\">\n",
       "  <thead>\n",
       "    <tr style=\"text-align: right;\">\n",
       "      <th></th>\n",
       "      <th>monthly_revenue</th>\n",
       "      <th>loanAmt</th>\n",
       "      <th>businessHistory</th>\n",
       "      <th>zipCode</th>\n",
       "      <th>hasProperty</th>\n",
       "      <th>otherLoan</th>\n",
       "      <th>cash</th>\n",
       "      <th>directorAge</th>\n",
       "      <th>taxReturn</th>\n",
       "      <th>AccommodationAndFoodServices</th>\n",
       "      <th>...</th>\n",
       "      <th>InformationMediaAndTelecommunications</th>\n",
       "      <th>Manufacturing</th>\n",
       "      <th>OtherServices</th>\n",
       "      <th>ProfessionalScientificAndTechnicalServices</th>\n",
       "      <th>PublicAdministrationAndSafety</th>\n",
       "      <th>RentalHiringAndTrade</th>\n",
       "      <th>RetailTrade</th>\n",
       "      <th>ServicesSectors</th>\n",
       "      <th>Transport,PostalAndWarehousing</th>\n",
       "      <th>WholesaleTrade</th>\n",
       "    </tr>\n",
       "  </thead>\n",
       "  <tbody>\n",
       "    <tr>\n",
       "      <th>3961</th>\n",
       "      <td>194998</td>\n",
       "      <td>72469</td>\n",
       "      <td>4</td>\n",
       "      <td>4626</td>\n",
       "      <td>1</td>\n",
       "      <td>0</td>\n",
       "      <td>142616</td>\n",
       "      <td>29</td>\n",
       "      <td>8036</td>\n",
       "      <td>0</td>\n",
       "      <td>...</td>\n",
       "      <td>0</td>\n",
       "      <td>0</td>\n",
       "      <td>0</td>\n",
       "      <td>0</td>\n",
       "      <td>0</td>\n",
       "      <td>0</td>\n",
       "      <td>0</td>\n",
       "      <td>0</td>\n",
       "      <td>0</td>\n",
       "      <td>0</td>\n",
       "    </tr>\n",
       "    <tr>\n",
       "      <th>3954</th>\n",
       "      <td>120321</td>\n",
       "      <td>75486</td>\n",
       "      <td>6</td>\n",
       "      <td>242</td>\n",
       "      <td>1</td>\n",
       "      <td>0</td>\n",
       "      <td>89099</td>\n",
       "      <td>34</td>\n",
       "      <td>18061</td>\n",
       "      <td>1</td>\n",
       "      <td>...</td>\n",
       "      <td>0</td>\n",
       "      <td>0</td>\n",
       "      <td>0</td>\n",
       "      <td>0</td>\n",
       "      <td>0</td>\n",
       "      <td>0</td>\n",
       "      <td>0</td>\n",
       "      <td>0</td>\n",
       "      <td>0</td>\n",
       "      <td>0</td>\n",
       "    </tr>\n",
       "    <tr>\n",
       "      <th>31588</th>\n",
       "      <td>105441</td>\n",
       "      <td>70218</td>\n",
       "      <td>4</td>\n",
       "      <td>2980</td>\n",
       "      <td>1</td>\n",
       "      <td>1</td>\n",
       "      <td>30230</td>\n",
       "      <td>26</td>\n",
       "      <td>14156</td>\n",
       "      <td>0</td>\n",
       "      <td>...</td>\n",
       "      <td>0</td>\n",
       "      <td>0</td>\n",
       "      <td>0</td>\n",
       "      <td>0</td>\n",
       "      <td>0</td>\n",
       "      <td>0</td>\n",
       "      <td>0</td>\n",
       "      <td>0</td>\n",
       "      <td>0</td>\n",
       "      <td>0</td>\n",
       "    </tr>\n",
       "    <tr>\n",
       "      <th>9777</th>\n",
       "      <td>212748</td>\n",
       "      <td>38332</td>\n",
       "      <td>8</td>\n",
       "      <td>1834</td>\n",
       "      <td>1</td>\n",
       "      <td>0</td>\n",
       "      <td>63310</td>\n",
       "      <td>32</td>\n",
       "      <td>21057</td>\n",
       "      <td>0</td>\n",
       "      <td>...</td>\n",
       "      <td>0</td>\n",
       "      <td>1</td>\n",
       "      <td>0</td>\n",
       "      <td>0</td>\n",
       "      <td>0</td>\n",
       "      <td>0</td>\n",
       "      <td>0</td>\n",
       "      <td>0</td>\n",
       "      <td>0</td>\n",
       "      <td>0</td>\n",
       "    </tr>\n",
       "    <tr>\n",
       "      <th>35309</th>\n",
       "      <td>59189</td>\n",
       "      <td>19255</td>\n",
       "      <td>3</td>\n",
       "      <td>1018</td>\n",
       "      <td>0</td>\n",
       "      <td>1</td>\n",
       "      <td>16662</td>\n",
       "      <td>48</td>\n",
       "      <td>7312</td>\n",
       "      <td>0</td>\n",
       "      <td>...</td>\n",
       "      <td>0</td>\n",
       "      <td>0</td>\n",
       "      <td>1</td>\n",
       "      <td>0</td>\n",
       "      <td>0</td>\n",
       "      <td>0</td>\n",
       "      <td>0</td>\n",
       "      <td>0</td>\n",
       "      <td>0</td>\n",
       "      <td>0</td>\n",
       "    </tr>\n",
       "    <tr>\n",
       "      <th>...</th>\n",
       "      <td>...</td>\n",
       "      <td>...</td>\n",
       "      <td>...</td>\n",
       "      <td>...</td>\n",
       "      <td>...</td>\n",
       "      <td>...</td>\n",
       "      <td>...</td>\n",
       "      <td>...</td>\n",
       "      <td>...</td>\n",
       "      <td>...</td>\n",
       "      <td>...</td>\n",
       "      <td>...</td>\n",
       "      <td>...</td>\n",
       "      <td>...</td>\n",
       "      <td>...</td>\n",
       "      <td>...</td>\n",
       "      <td>...</td>\n",
       "      <td>...</td>\n",
       "      <td>...</td>\n",
       "      <td>...</td>\n",
       "      <td>...</td>\n",
       "    </tr>\n",
       "    <tr>\n",
       "      <th>35822</th>\n",
       "      <td>42868</td>\n",
       "      <td>47759</td>\n",
       "      <td>2</td>\n",
       "      <td>2672</td>\n",
       "      <td>1</td>\n",
       "      <td>1</td>\n",
       "      <td>21201</td>\n",
       "      <td>26</td>\n",
       "      <td>7985</td>\n",
       "      <td>0</td>\n",
       "      <td>...</td>\n",
       "      <td>0</td>\n",
       "      <td>0</td>\n",
       "      <td>0</td>\n",
       "      <td>0</td>\n",
       "      <td>0</td>\n",
       "      <td>0</td>\n",
       "      <td>0</td>\n",
       "      <td>1</td>\n",
       "      <td>0</td>\n",
       "      <td>0</td>\n",
       "    </tr>\n",
       "    <tr>\n",
       "      <th>43933</th>\n",
       "      <td>31488</td>\n",
       "      <td>43094</td>\n",
       "      <td>3</td>\n",
       "      <td>924</td>\n",
       "      <td>0</td>\n",
       "      <td>1</td>\n",
       "      <td>18892</td>\n",
       "      <td>27</td>\n",
       "      <td>7252</td>\n",
       "      <td>0</td>\n",
       "      <td>...</td>\n",
       "      <td>0</td>\n",
       "      <td>0</td>\n",
       "      <td>0</td>\n",
       "      <td>0</td>\n",
       "      <td>0</td>\n",
       "      <td>0</td>\n",
       "      <td>0</td>\n",
       "      <td>1</td>\n",
       "      <td>0</td>\n",
       "      <td>0</td>\n",
       "    </tr>\n",
       "    <tr>\n",
       "      <th>15326</th>\n",
       "      <td>112432</td>\n",
       "      <td>7132</td>\n",
       "      <td>9</td>\n",
       "      <td>969</td>\n",
       "      <td>1</td>\n",
       "      <td>0</td>\n",
       "      <td>92196</td>\n",
       "      <td>26</td>\n",
       "      <td>22989</td>\n",
       "      <td>0</td>\n",
       "      <td>...</td>\n",
       "      <td>0</td>\n",
       "      <td>0</td>\n",
       "      <td>0</td>\n",
       "      <td>0</td>\n",
       "      <td>0</td>\n",
       "      <td>0</td>\n",
       "      <td>0</td>\n",
       "      <td>0</td>\n",
       "      <td>0</td>\n",
       "      <td>0</td>\n",
       "    </tr>\n",
       "    <tr>\n",
       "      <th>30756</th>\n",
       "      <td>208301</td>\n",
       "      <td>44535</td>\n",
       "      <td>9</td>\n",
       "      <td>2615</td>\n",
       "      <td>1</td>\n",
       "      <td>1</td>\n",
       "      <td>29379</td>\n",
       "      <td>29</td>\n",
       "      <td>15349</td>\n",
       "      <td>0</td>\n",
       "      <td>...</td>\n",
       "      <td>0</td>\n",
       "      <td>0</td>\n",
       "      <td>0</td>\n",
       "      <td>0</td>\n",
       "      <td>0</td>\n",
       "      <td>0</td>\n",
       "      <td>0</td>\n",
       "      <td>1</td>\n",
       "      <td>0</td>\n",
       "      <td>0</td>\n",
       "    </tr>\n",
       "    <tr>\n",
       "      <th>39250</th>\n",
       "      <td>64407</td>\n",
       "      <td>77354</td>\n",
       "      <td>2</td>\n",
       "      <td>931</td>\n",
       "      <td>1</td>\n",
       "      <td>1</td>\n",
       "      <td>21225</td>\n",
       "      <td>25</td>\n",
       "      <td>7749</td>\n",
       "      <td>0</td>\n",
       "      <td>...</td>\n",
       "      <td>0</td>\n",
       "      <td>0</td>\n",
       "      <td>0</td>\n",
       "      <td>0</td>\n",
       "      <td>0</td>\n",
       "      <td>0</td>\n",
       "      <td>0</td>\n",
       "      <td>1</td>\n",
       "      <td>0</td>\n",
       "      <td>0</td>\n",
       "    </tr>\n",
       "  </tbody>\n",
       "</table>\n",
       "<p>37494 rows × 26 columns</p>\n",
       "</div>"
      ],
      "text/plain": [
       "       monthly_revenue  loanAmt  businessHistory  zipCode  hasProperty  \\\n",
       "3961            194998    72469                4     4626            1   \n",
       "3954            120321    75486                6      242            1   \n",
       "31588           105441    70218                4     2980            1   \n",
       "9777            212748    38332                8     1834            1   \n",
       "35309            59189    19255                3     1018            0   \n",
       "...                ...      ...              ...      ...          ...   \n",
       "35822            42868    47759                2     2672            1   \n",
       "43933            31488    43094                3      924            0   \n",
       "15326           112432     7132                9      969            1   \n",
       "30756           208301    44535                9     2615            1   \n",
       "39250            64407    77354                2      931            1   \n",
       "\n",
       "       otherLoan    cash  directorAge  taxReturn  \\\n",
       "3961           0  142616           29       8036   \n",
       "3954           0   89099           34      18061   \n",
       "31588          1   30230           26      14156   \n",
       "9777           0   63310           32      21057   \n",
       "35309          1   16662           48       7312   \n",
       "...          ...     ...          ...        ...   \n",
       "35822          1   21201           26       7985   \n",
       "43933          1   18892           27       7252   \n",
       "15326          0   92196           26      22989   \n",
       "30756          1   29379           29      15349   \n",
       "39250          1   21225           25       7749   \n",
       "\n",
       "       AccommodationAndFoodServices  ...  \\\n",
       "3961                              0  ...   \n",
       "3954                              1  ...   \n",
       "31588                             0  ...   \n",
       "9777                              0  ...   \n",
       "35309                             0  ...   \n",
       "...                             ...  ...   \n",
       "35822                             0  ...   \n",
       "43933                             0  ...   \n",
       "15326                             0  ...   \n",
       "30756                             0  ...   \n",
       "39250                             0  ...   \n",
       "\n",
       "       InformationMediaAndTelecommunications  Manufacturing  OtherServices  \\\n",
       "3961                                       0              0              0   \n",
       "3954                                       0              0              0   \n",
       "31588                                      0              0              0   \n",
       "9777                                       0              1              0   \n",
       "35309                                      0              0              1   \n",
       "...                                      ...            ...            ...   \n",
       "35822                                      0              0              0   \n",
       "43933                                      0              0              0   \n",
       "15326                                      0              0              0   \n",
       "30756                                      0              0              0   \n",
       "39250                                      0              0              0   \n",
       "\n",
       "       ProfessionalScientificAndTechnicalServices  \\\n",
       "3961                                            0   \n",
       "3954                                            0   \n",
       "31588                                           0   \n",
       "9777                                            0   \n",
       "35309                                           0   \n",
       "...                                           ...   \n",
       "35822                                           0   \n",
       "43933                                           0   \n",
       "15326                                           0   \n",
       "30756                                           0   \n",
       "39250                                           0   \n",
       "\n",
       "       PublicAdministrationAndSafety  RentalHiringAndTrade  RetailTrade  \\\n",
       "3961                               0                     0            0   \n",
       "3954                               0                     0            0   \n",
       "31588                              0                     0            0   \n",
       "9777                               0                     0            0   \n",
       "35309                              0                     0            0   \n",
       "...                              ...                   ...          ...   \n",
       "35822                              0                     0            0   \n",
       "43933                              0                     0            0   \n",
       "15326                              0                     0            0   \n",
       "30756                              0                     0            0   \n",
       "39250                              0                     0            0   \n",
       "\n",
       "       ServicesSectors  Transport,PostalAndWarehousing  WholesaleTrade  \n",
       "3961                 0                               0               0  \n",
       "3954                 0                               0               0  \n",
       "31588                0                               0               0  \n",
       "9777                 0                               0               0  \n",
       "35309                0                               0               0  \n",
       "...                ...                             ...             ...  \n",
       "35822                1                               0               0  \n",
       "43933                1                               0               0  \n",
       "15326                0                               0               0  \n",
       "30756                1                               0               0  \n",
       "39250                1                               0               0  \n",
       "\n",
       "[37494 rows x 26 columns]"
      ]
     },
     "execution_count": 13,
     "metadata": {},
     "output_type": "execute_result"
    }
   ],
   "source": [
    "# Checking the X_train dataset \n",
    "X_train"
   ]
  },
  {
   "cell_type": "markdown",
   "id": "68956ec0-31a3-4c7c-a607-41267300152a",
   "metadata": {},
   "source": [
    "### Resampling the data \n",
    "--------"
   ]
  },
  {
   "cell_type": "code",
   "execution_count": 14,
   "id": "816b6d62-e73d-469d-9523-88937b56e55f",
   "metadata": {},
   "outputs": [],
   "source": [
    "# Using ClusterCentroids to resample the data, given it's an unbalanced data "
   ]
  },
  {
   "cell_type": "code",
   "execution_count": 15,
   "id": "74f48d9c-3072-4836-aa76-ce88159c460f",
   "metadata": {},
   "outputs": [],
   "source": [
    "# Import ClusterCentroids from imblearn\n",
    "from imblearn.under_sampling import ClusterCentroids\n",
    "\n",
    "# Create an instance of ClusterCentroids\n",
    "cc = ClusterCentroids(random_state=1)\n",
    "\n",
    "# Fit the cluster centroids model to the traning data\n",
    "X_resampled, y_resampled = cc.fit_resample(X_train_scaled, y_train)"
   ]
  },
  {
   "cell_type": "markdown",
   "id": "bbe06f02-9912-45bc-89c5-70d670a87c7d",
   "metadata": {},
   "source": [
    "## Machine leanring:\n",
    "------"
   ]
  },
  {
   "cell_type": "markdown",
   "id": "a7bbe03b-f336-4f0d-833c-c151c34a701f",
   "metadata": {},
   "source": [
    "#### Logistic regression "
   ]
  },
  {
   "cell_type": "code",
   "execution_count": 51,
   "id": "ef57aecd-c745-4e17-be5f-14353fc2f907",
   "metadata": {},
   "outputs": [],
   "source": [
    "# assign the logistical regression module \n",
    "logistic_regression_model = LogisticRegression()"
   ]
  },
  {
   "cell_type": "code",
   "execution_count": 52,
   "id": "40b2f7c0-016a-46d1-a85a-6bc8f4db64b7",
   "metadata": {},
   "outputs": [],
   "source": [
    "#  Fitting the logistic regression module on the resampled data \n",
    "lr_model = logistic_regression_model.fit(X_resampled, y_resampled)"
   ]
  },
  {
   "cell_type": "code",
   "execution_count": 53,
   "id": "d54adf05-a776-497e-a775-3963c81cfcf4",
   "metadata": {},
   "outputs": [],
   "source": [
    "# Using the fitted data to predict the testing data \n",
    "testing_predictions = lr_model.predict(X_test_scaled)"
   ]
  },
  {
   "cell_type": "code",
   "execution_count": 54,
   "id": "f7707d2b-0225-43ac-bcd1-ec0bbc95c7e9",
   "metadata": {},
   "outputs": [
    {
     "data": {
      "text/plain": [
       "array([1, 1, 0, ..., 1, 1, 1])"
      ]
     },
     "execution_count": 54,
     "metadata": {},
     "output_type": "execute_result"
    }
   ],
   "source": [
    "# Checking the predictions \n",
    "testing_predictions"
   ]
  },
  {
   "cell_type": "code",
   "execution_count": 55,
   "id": "b9097821-6733-4635-90cd-5a1d63838c97",
   "metadata": {},
   "outputs": [
    {
     "name": "stdout",
     "output_type": "stream",
     "text": [
      "[[3882    0]\n",
      " [ 313 8303]]\n"
     ]
    }
   ],
   "source": [
    "#  printing a confusion matrix for the module \n",
    "test_matrix = confusion_matrix(y_test, testing_predictions)\n",
    "print(test_matrix)"
   ]
  },
  {
   "cell_type": "code",
   "execution_count": null,
   "id": "d57ca789-03ca-46ce-ba29-1550c30f4e1d",
   "metadata": {},
   "outputs": [
    {
     "name": "stdout",
     "output_type": "stream",
     "text": [
      "              precision    recall  f1-score   support\n",
      "\n",
      "           0       0.93      1.00      0.96      3882\n",
      "           1       1.00      0.96      0.98      8616\n",
      "\n",
      "    accuracy                           0.97     12498\n",
      "   macro avg       0.96      0.98      0.97     12498\n",
      "weighted avg       0.98      0.97      0.98     12498\n",
      "\n"
     ]
    }
   ],
   "source": [
    "# Printing the classification report \n",
    "testing_report = classification_report(y_test, testing_predictions)\n",
    "\n",
    "print(testing_report)"
   ]
  },
  {
   "cell_type": "code",
   "execution_count": 58,
   "id": "acbc506d-8b75-43a3-be31-5682fc3a35f1",
   "metadata": {},
   "outputs": [],
   "source": [
    "# roc curve for models\n",
    "fpr1, tpr1, thresh1 = roc_curve(y_test, testing_predictions, pos_label=1)\n",
    "\n",
    "# roc curve for tpr = fpr \n",
    "random_probs = [0 for i in range(len(y_test))]\n",
    "p_fpr, p_tpr, _ = roc_curve(y_test, random_probs, pos_label=1)"
   ]
  },
  {
   "cell_type": "code",
   "execution_count": 61,
   "id": "998ffd99-1b14-43b2-a25b-8fadfe35ca19",
   "metadata": {},
   "outputs": [
    {
     "data": {
      "image/png": "[encoded data removed]",
      "text/plain": [
       "<Figure size 432x288 with 1 Axes>"
      ]
     },
     "metadata": {
      "needs_background": "light"
     },
     "output_type": "display_data"
    }
   ],
   "source": [
    "# plot roc curves\n",
    "fig_1 = plt.figure()\n",
    "plt.plot(fpr1, tpr1, linestyle='--',color='orange', label='Logistic Regression')\n",
    "plt.plot(p_fpr, p_tpr, linestyle='--', color='blue')\n",
    "# title\n",
    "plt.title('ROC curve: Logistic Regression')\n",
    "# x label\n",
    "plt.xlabel('False Positive Rate')\n",
    "# y label\n",
    "plt.ylabel('True Positive rate')\n",
    "\n",
    "plt.legend(loc='best')\n",
    "plt.savefig('ROC',dpi=300)\n",
    "plt.show()"
   ]
  },
  {
   "cell_type": "code",
   "execution_count": 289,
   "id": "f74dfb15-944d-4548-a032-aa07c123a7a6",
   "metadata": {},
   "outputs": [],
   "source": [
    "# Saving the trained module to be used in the UI (streamlit) \n",
    "pickle.dump(lr_model,open('model_lr.pkl','wb'))"
   ]
  },
  {
   "cell_type": "markdown",
   "id": "570a9619-69db-486c-b737-8b67784ffaac",
   "metadata": {},
   "source": [
    "#### RandomForest model:"
   ]
  },
  {
   "cell_type": "code",
   "execution_count": 63,
   "id": "92fc2aa1-65a6-4fff-b9fb-874196a291b5",
   "metadata": {},
   "outputs": [],
   "source": [
    "# Assining a variabl to the RandomForestClassifier \n",
    "\n",
    "rf_model = RandomForestClassifier(n_estimators=100, random_state=2)"
   ]
  },
  {
   "cell_type": "code",
   "execution_count": 64,
   "id": "1a956021-f3e9-486d-b950-a34e41ca6c36",
   "metadata": {},
   "outputs": [],
   "source": [
    "# Fitting the module on the data \n",
    "rd_model = rf_model.fit(X_resampled, y_resampled)"
   ]
  },
  {
   "cell_type": "code",
   "execution_count": 65,
   "id": "e123d9c9-0cdf-4780-ba24-fa040370e54f",
   "metadata": {},
   "outputs": [],
   "source": [
    "# Predicting \n",
    "predictions = rf_model.predict(X_test_scaled)"
   ]
  },
  {
   "cell_type": "code",
   "execution_count": 66,
   "id": "3eead013-f11e-4f69-a339-5237337d87c6",
   "metadata": {},
   "outputs": [
    {
     "data": {
      "text/plain": [
       "0.9958393342934869"
      ]
     },
     "execution_count": 66,
     "metadata": {},
     "output_type": "execute_result"
    }
   ],
   "source": [
    "# Checking the accuracy score \n",
    "acc_score = accuracy_score(y_test, predictions)\n",
    "acc_score"
   ]
  },
  {
   "cell_type": "code",
   "execution_count": 67,
   "id": "557da0a2-2739-46f7-9081-7735e4d93e2d",
   "metadata": {},
   "outputs": [
    {
     "data": {
      "text/plain": [
       "array([1, 1, 0, ..., 1, 1, 1])"
      ]
     },
     "execution_count": 67,
     "metadata": {},
     "output_type": "execute_result"
    }
   ],
   "source": [
    "predictions"
   ]
  },
  {
   "cell_type": "code",
   "execution_count": 68,
   "id": "f36ddbb8-0af3-45b5-83de-47b30cef01d2",
   "metadata": {},
   "outputs": [
    {
     "name": "stdout",
     "output_type": "stream",
     "text": [
      "              precision    recall  f1-score   support\n",
      "\n",
      "           0       0.99      1.00      0.99      3882\n",
      "           1       1.00      0.99      1.00      8616\n",
      "\n",
      "    accuracy                           1.00     12498\n",
      "   macro avg       0.99      1.00      1.00     12498\n",
      "weighted avg       1.00      1.00      1.00     12498\n",
      "\n"
     ]
    }
   ],
   "source": [
    "# Printing the classification reprot to assess the our recall and precision \n",
    "print(classification_report(y_test,predictions))"
   ]
  },
  {
   "cell_type": "code",
   "execution_count": 30,
   "id": "365c72a6-04ff-4976-ba94-28d68d94d150",
   "metadata": {},
   "outputs": [
    {
     "data": {
      "text/plain": [
       "[(0.25942240074071304, 'cash'),\n",
       " (0.20242812384045236, 'monthly_revenue'),\n",
       " (0.18154100688203623, 'businessHistory'),\n",
       " (0.16363215322407632, 'taxReturn'),\n",
       " (0.1099769156223369, 'otherLoan'),\n",
       " (0.02958923829058078, 'directorAge'),\n",
       " (0.02325541698676651, 'hasProperty'),\n",
       " (0.0036723111442686983, 'loanAmt'),\n",
       " (0.003067077333694344, 'zipCode'),\n",
       " (0.0029669112712162487, 'ElectricityGasWaterAndWasteServices'),\n",
       " (0.0028916112853379565, 'RentalHiringAndTrade'),\n",
       " (0.002723935734512894, 'Transport,PostalAndWarehousing'),\n",
       " (0.002407442643617758, 'InformationMediaAndTelecommunications'),\n",
       " (0.0019466610916629656, 'WholesaleTrade'),\n",
       " (0.0018147871126196614, 'ProfessionalScientificAndTechnicalServices'),\n",
       " (0.0017913899077669796, 'ArtsAndRecreation'),\n",
       " (0.0017884706585395188, 'AgricultureForestryAndFishing'),\n",
       " (0.0015296631626811265, 'PublicAdministrationAndSafety'),\n",
       " (0.0015046455655780765, 'Manufacturing'),\n",
       " (0.0003806554206182716, 'AccommodationAndFoodServices'),\n",
       " (0.00036435148814918704, 'RetailTrade'),\n",
       " (0.00030638191007341, 'EducationAndTraining'),\n",
       " (0.00028827686781401386, 'ServicesSectors'),\n",
       " (0.00025195824264999834, 'Construction'),\n",
       " (0.00024269679537961895, 'OtherServices'),\n",
       " (0.00021551677685718935, 'HealthCareAndSocialAssistance')]"
      ]
     },
     "execution_count": 30,
     "metadata": {},
     "output_type": "execute_result"
    }
   ],
   "source": [
    "# Checking the improtance and weight of each feature in the randomeForest module\n",
    "importances = rf_model.feature_importances_\n",
    "sorted(zip(rf_model.feature_importances_, X.columns), reverse=True)"
   ]
  },
  {
   "cell_type": "code",
   "execution_count": 69,
   "id": "5374e0bc-5b03-46d6-8717-074d2b7ce6d2",
   "metadata": {},
   "outputs": [],
   "source": [
    "# roc curve for models\n",
    "fpr1, tpr1, thresh1 = roc_curve(y_test,predictions, pos_label=1)\n",
    "\n",
    "# roc curve for tpr = fpr \n",
    "random_probs = [0 for i in range(len(y_test))]\n",
    "p_fpr, p_tpr, _ = roc_curve(y_test, random_probs, pos_label=1)"
   ]
  },
  {
   "cell_type": "code",
   "execution_count": 70,
   "id": "eddd75cb-ce05-456f-8576-1ca8d674b62d",
   "metadata": {},
   "outputs": [
    {
     "data": {
      "image/png": "[encoded data removed]",
      "text/plain": [
       "<Figure size 432x288 with 1 Axes>"
      ]
     },
     "metadata": {
      "needs_background": "light"
     },
     "output_type": "display_data"
    }
   ],
   "source": [
    "# plot roc curves\n",
    "fig_2 = plt.figure()\n",
    "plt.plot(fpr1, tpr1, linestyle='--',color='green', label='RandomForest')\n",
    "plt.plot(p_fpr, p_tpr, linestyle='--', color='blue')\n",
    "# title\n",
    "plt.title('ROC curve: RandomForest')\n",
    "# x label\n",
    "plt.xlabel('False Positive Rate')\n",
    "# y label\n",
    "plt.ylabel('True Positive rate')\n",
    "\n",
    "plt.legend(loc='best')\n",
    "plt.savefig('ROC',dpi=300)\n",
    "plt.show()"
   ]
  },
  {
   "cell_type": "code",
   "execution_count": 31,
   "id": "c2b2d8b6-1913-4f68-89bd-4afb5661da34",
   "metadata": {},
   "outputs": [],
   "source": [
    "# Saving the pre run module to be used in the streamlit \n",
    "pickle.dump(rd_model,open('model_rd.pkl','wb'))"
   ]
  },
  {
   "cell_type": "markdown",
   "id": "68f214a0-51f0-43f4-b6ed-d54825ca84fe",
   "metadata": {},
   "source": [
    "### Decision Tree model:"
   ]
  },
  {
   "cell_type": "code",
   "execution_count": 86,
   "id": "50cc21e0-11b7-4526-8abe-4bcdbdc6ecf8",
   "metadata": {},
   "outputs": [],
   "source": [
    "# Assinging the model\n",
    "model_dt = tree.DecisionTreeClassifier()"
   ]
  },
  {
   "cell_type": "code",
   "execution_count": 87,
   "id": "4b8eade1-e7eb-4e90-8c2a-351a1a539ede",
   "metadata": {},
   "outputs": [],
   "source": [
    "# Fitting the model \n",
    "model_dt = model_dt.fit(X_resampled, y_resampled)"
   ]
  },
  {
   "cell_type": "code",
   "execution_count": 88,
   "id": "07f1944e-1f69-4818-a24d-790e78e1c57a",
   "metadata": {},
   "outputs": [],
   "source": [
    "# Predicting the model \n",
    "pred = model_dt.predict(X_test_scaled)"
   ]
  },
  {
   "cell_type": "code",
   "execution_count": 89,
   "id": "f8dc4706-c5e3-4f3b-99c9-c95c94e1e08a",
   "metadata": {},
   "outputs": [
    {
     "name": "stdout",
     "output_type": "stream",
     "text": [
      "              precision    recall  f1-score   support\n",
      "\n",
      "           0       0.99      0.99      0.99      3882\n",
      "           1       1.00      0.99      1.00      8616\n",
      "\n",
      "    accuracy                           0.99     12498\n",
      "   macro avg       0.99      0.99      0.99     12498\n",
      "weighted avg       0.99      0.99      0.99     12498\n",
      "\n"
     ]
    }
   ],
   "source": [
    "print(classification_report(y_test,pred))"
   ]
  },
  {
   "cell_type": "code",
   "execution_count": 90,
   "id": "d7e5c43c-f0cd-47ac-b17d-f5ad2db1e0ad",
   "metadata": {},
   "outputs": [],
   "source": [
    "# roc curve for models\n",
    "fpr1, tpr1, thresh1 = roc_curve(y_test,pred, pos_label=1)\n",
    "\n",
    "# roc curve for tpr = fpr \n",
    "random_probs = [0 for i in range(len(y_test))]\n",
    "p_fpr, p_tpr, _ = roc_curve(y_test, random_probs, pos_label=1)"
   ]
  },
  {
   "cell_type": "code",
   "execution_count": 91,
   "id": "01772d2b-357b-422b-8c13-5511767a0de9",
   "metadata": {},
   "outputs": [
    {
     "data": {
      "image/png": "[encoded data removed]",
      "text/plain": [
       "<Figure size 432x288 with 1 Axes>"
      ]
     },
     "metadata": {
      "needs_background": "light"
     },
     "output_type": "display_data"
    }
   ],
   "source": [
    "# plot roc curves\n",
    "fig_3 = plt.figure()\n",
    "plt.plot(fpr1, tpr1, linestyle='--',color='red', label='DecisionTree')\n",
    "plt.plot(p_fpr, p_tpr, linestyle='--', color='blue')\n",
    "# title\n",
    "plt.title('ROC curve: DecisionTree')\n",
    "# x label\n",
    "plt.xlabel('False Positive Rate')\n",
    "# y label\n",
    "plt.ylabel('True Positive rate')\n",
    "\n",
    "plt.legend(loc='best')\n",
    "plt.savefig('ROC',dpi=300)\n",
    "plt.show()"
   ]
  },
  {
   "cell_type": "code",
   "execution_count": 92,
   "id": "cf00d51f-8e39-4c76-bb4f-7747c0a1a6b4",
   "metadata": {},
   "outputs": [],
   "source": [
    "# Saving the pre run module to be used in the streamlit \n",
    "pickle.dump(model_dt,open('model_dt.pkl','wb'))"
   ]
  },
  {
   "cell_type": "markdown",
   "id": "f7baaa60-41f3-401d-a237-929dcbb32593",
   "metadata": {},
   "source": [
    "#### Neural Network (Deep Learning): "
   ]
  },
  {
   "cell_type": "code",
   "execution_count": 75,
   "id": "7e27b075-fe5b-4216-b4dd-13c87c548ebd",
   "metadata": {},
   "outputs": [],
   "source": [
    "# Importing the required libraries from tensorflow\n",
    "import tensorflow as tf\n",
    "from tensorflow.keras.layers import Dense\n",
    "from tensorflow.keras.models import Sequential"
   ]
  },
  {
   "cell_type": "code",
   "execution_count": 19,
   "id": "fd08e978-f037-44f0-b22e-97ea44fc3fdd",
   "metadata": {},
   "outputs": [
    {
     "name": "stderr",
     "output_type": "stream",
     "text": [
      "2022-09-03 19:36:35.110307: I tensorflow/core/platform/cpu_feature_guard.cc:193] This TensorFlow binary is optimized with oneAPI Deep Neural Network Library (oneDNN) to use the following CPU instructions in performance-critical operations:  AVX2 FMA\n",
      "To enable them in other operations, rebuild TensorFlow with the appropriate compiler flags.\n"
     ]
    }
   ],
   "source": [
    "# Building the neural network structure \n",
    "# Assigning the numbers of input, and two hidden layers \n",
    "\n",
    "number_inputs = 26\n",
    "hidden_nodes_layer1 = 20\n",
    "hidden_nodes_layer2 = 12\n",
    "\n",
    "# Assign a varliable to the model \n",
    "nn = Sequential()\n",
    "\n",
    "# Building the struture of the first hidden layer \n",
    "nn.add(Dense(units=hidden_nodes_layer1, input_dim=number_inputs, activation=\"relu\"))\n",
    "\n",
    "# Building the struture of the second hidden layer, using 'relu' as activation  \n",
    "nn.add(Dense(units=hidden_nodes_layer2, activation=\"relu\"))\n",
    "\n",
    "# Building the output layer, using 'sigmoid' as activation \n",
    "nn.add(Dense(1, activation=\"sigmoid\"))"
   ]
  },
  {
   "cell_type": "code",
   "execution_count": 20,
   "id": "0aa36994-cca6-4a06-9f17-850faf3210bd",
   "metadata": {},
   "outputs": [
    {
     "name": "stdout",
     "output_type": "stream",
     "text": [
      "Model: \"sequential\"\n",
      "_________________________________________________________________\n",
      " Layer (type)                Output Shape              Param #   \n",
      "=================================================================\n",
      " dense (Dense)               (None, 20)                540       \n",
      "                                                                 \n",
      " dense_1 (Dense)             (None, 12)                252       \n",
      "                                                                 \n",
      " dense_2 (Dense)             (None, 1)                 13        \n",
      "                                                                 \n",
      "=================================================================\n",
      "Total params: 805\n",
      "Trainable params: 805\n",
      "Non-trainable params: 0\n",
      "_________________________________________________________________\n"
     ]
    }
   ],
   "source": [
    "# Checking the summary \n",
    "nn.summary()"
   ]
  },
  {
   "cell_type": "code",
   "execution_count": 21,
   "id": "75651806-998a-4adf-bf42-32fa50796fb0",
   "metadata": {},
   "outputs": [],
   "source": [
    "# Compile the Sequential model, with claculating details for the \n",
    "# classification report \n",
    "nn.compile(\n",
    "    loss=\"binary_crossentropy\",\n",
    "    optimizer=\"adam\",\n",
    "    metrics=[\n",
    "        \"accuracy\",\n",
    "        tf.keras.metrics.TruePositives(name=\"tp\"),\n",
    "        tf.keras.metrics.TrueNegatives(name=\"tn\"),\n",
    "        tf.keras.metrics.FalsePositives(name=\"fp\"),\n",
    "        tf.keras.metrics.FalseNegatives(name=\"fn\"),\n",
    "        tf.keras.metrics.Precision(name=\"precision\"),\n",
    "        tf.keras.metrics.Recall(name=\"recall\"),\n",
    "        tf.keras.metrics.AUC(name=\"auc\"),\n",
    "    ],\n",
    ")"
   ]
  },
  {
   "cell_type": "code",
   "execution_count": 24,
   "id": "8a28a371-5e70-4a7a-8817-c8693618f9ea",
   "metadata": {},
   "outputs": [
    {
     "name": "stdout",
     "output_type": "stream",
     "text": [
      "Epoch 1/40\n",
      "38/38 [==============================] - 1s 2ms/step - loss: 1816.1165 - accuracy: 0.6293 - tp: 20775.0000 - tn: 2820.0000 - fp: 8882.0000 - fn: 5017.0000 - precision: 0.7005 - recall: 0.8055 - auc: 0.5234\n",
      "Epoch 2/40\n",
      "38/38 [==============================] - 0s 2ms/step - loss: 176.4583 - accuracy: 0.8164 - tp: 22866.0000 - tn: 7744.0000 - fp: 3958.0000 - fn: 2926.0000 - precision: 0.8524 - recall: 0.8866 - auc: 0.7751\n",
      "Epoch 3/40\n",
      "38/38 [==============================] - 0s 2ms/step - loss: 94.8863 - accuracy: 0.8223 - tp: 22984.0000 - tn: 7847.0000 - fp: 3855.0000 - fn: 2808.0000 - precision: 0.8564 - recall: 0.8911 - auc: 0.7821\n",
      "Epoch 4/40\n",
      "38/38 [==============================] - 0s 2ms/step - loss: 64.5863 - accuracy: 0.8262 - tp: 22968.0000 - tn: 8009.0000 - fp: 3693.0000 - fn: 2824.0000 - precision: 0.8615 - recall: 0.8905 - auc: 0.7891\n",
      "Epoch 5/40\n",
      "38/38 [==============================] - 0s 2ms/step - loss: 53.5834 - accuracy: 0.8170 - tp: 22838.0000 - tn: 7795.0000 - fp: 3907.0000 - fn: 2954.0000 - precision: 0.8539 - recall: 0.8855 - auc: 0.7781\n",
      "Epoch 6/40\n",
      "38/38 [==============================] - 0s 2ms/step - loss: 43.5788 - accuracy: 0.8266 - tp: 22952.0000 - tn: 8039.0000 - fp: 3663.0000 - fn: 2840.0000 - precision: 0.8624 - recall: 0.8899 - auc: 0.7918\n",
      "Epoch 7/40\n",
      "38/38 [==============================] - 0s 2ms/step - loss: 33.7207 - accuracy: 0.8338 - tp: 23132.0000 - tn: 8130.0000 - fp: 3572.0000 - fn: 2660.0000 - precision: 0.8662 - recall: 0.8969 - auc: 0.7993\n",
      "Epoch 8/40\n",
      "38/38 [==============================] - 0s 2ms/step - loss: 29.0431 - accuracy: 0.8423 - tp: 23245.0000 - tn: 8335.0000 - fp: 3367.0000 - fn: 2547.0000 - precision: 0.8735 - recall: 0.9012 - auc: 0.8104\n",
      "Epoch 9/40\n",
      "38/38 [==============================] - 0s 2ms/step - loss: 26.2610 - accuracy: 0.8465 - tp: 23359.0000 - tn: 8380.0000 - fp: 3322.0000 - fn: 2433.0000 - precision: 0.8755 - recall: 0.9057 - auc: 0.8155\n",
      "Epoch 10/40\n",
      "38/38 [==============================] - 0s 1ms/step - loss: 24.0693 - accuracy: 0.8499 - tp: 23441.0000 - tn: 8424.0000 - fp: 3278.0000 - fn: 2351.0000 - precision: 0.8773 - recall: 0.9088 - auc: 0.8186\n",
      "Epoch 11/40\n",
      "38/38 [==============================] - 0s 2ms/step - loss: 22.3753 - accuracy: 0.8502 - tp: 23393.0000 - tn: 8484.0000 - fp: 3218.0000 - fn: 2399.0000 - precision: 0.8791 - recall: 0.9070 - auc: 0.8208\n",
      "Epoch 12/40\n",
      "38/38 [==============================] - 0s 1ms/step - loss: 20.0147 - accuracy: 0.8569 - tp: 23531.0000 - tn: 8596.0000 - fp: 3106.0000 - fn: 2261.0000 - precision: 0.8834 - recall: 0.9123 - auc: 0.8295\n",
      "Epoch 13/40\n",
      "38/38 [==============================] - 0s 2ms/step - loss: 17.5375 - accuracy: 0.8597 - tp: 23616.0000 - tn: 8617.0000 - fp: 3085.0000 - fn: 2176.0000 - precision: 0.8845 - recall: 0.9156 - auc: 0.8317\n",
      "Epoch 14/40\n",
      "38/38 [==============================] - 0s 1ms/step - loss: 15.8794 - accuracy: 0.8588 - tp: 23579.0000 - tn: 8621.0000 - fp: 3081.0000 - fn: 2213.0000 - precision: 0.8844 - recall: 0.9142 - auc: 0.8324\n",
      "Epoch 15/40\n",
      "38/38 [==============================] - 0s 2ms/step - loss: 16.9305 - accuracy: 0.8479 - tp: 23439.0000 - tn: 8351.0000 - fp: 3351.0000 - fn: 2353.0000 - precision: 0.8749 - recall: 0.9088 - auc: 0.8167\n",
      "Epoch 16/40\n",
      "38/38 [==============================] - 0s 1ms/step - loss: 14.4108 - accuracy: 0.8584 - tp: 23671.0000 - tn: 8512.0000 - fp: 3190.0000 - fn: 2121.0000 - precision: 0.8812 - recall: 0.9178 - auc: 0.8298\n",
      "Epoch 17/40\n",
      "38/38 [==============================] - 0s 2ms/step - loss: 16.8348 - accuracy: 0.8437 - tp: 23318.0000 - tn: 8316.0000 - fp: 3386.0000 - fn: 2474.0000 - precision: 0.8732 - recall: 0.9041 - auc: 0.8138\n",
      "Epoch 18/40\n",
      "38/38 [==============================] - 0s 2ms/step - loss: 16.4164 - accuracy: 0.8420 - tp: 23323.0000 - tn: 8248.0000 - fp: 3454.0000 - fn: 2469.0000 - precision: 0.8710 - recall: 0.9043 - auc: 0.8110\n",
      "Epoch 19/40\n",
      "38/38 [==============================] - 0s 1ms/step - loss: 14.3207 - accuracy: 0.8519 - tp: 23468.0000 - tn: 8475.0000 - fp: 3227.0000 - fn: 2324.0000 - precision: 0.8791 - recall: 0.9099 - auc: 0.8248\n",
      "Epoch 20/40\n",
      "38/38 [==============================] - 0s 2ms/step - loss: 12.3887 - accuracy: 0.8622 - tp: 23570.0000 - tn: 8757.0000 - fp: 2945.0000 - fn: 2222.0000 - precision: 0.8889 - recall: 0.9138 - auc: 0.8394\n",
      "Epoch 21/40\n",
      "38/38 [==============================] - 0s 2ms/step - loss: 9.6757 - accuracy: 0.8673 - tp: 23665.0000 - tn: 8853.0000 - fp: 2849.0000 - fn: 2127.0000 - precision: 0.8925 - recall: 0.9175 - auc: 0.8483\n",
      "Epoch 22/40\n",
      "38/38 [==============================] - 0s 2ms/step - loss: 13.6839 - accuracy: 0.8470 - tp: 23359.0000 - tn: 8397.0000 - fp: 3305.0000 - fn: 2433.0000 - precision: 0.8761 - recall: 0.9057 - auc: 0.8195\n",
      "Epoch 23/40\n",
      "38/38 [==============================] - 0s 2ms/step - loss: 12.4452 - accuracy: 0.8529 - tp: 23465.0000 - tn: 8512.0000 - fp: 3190.0000 - fn: 2327.0000 - precision: 0.8803 - recall: 0.9098 - auc: 0.8267\n",
      "Epoch 24/40\n",
      "38/38 [==============================] - 0s 2ms/step - loss: 10.6880 - accuracy: 0.8590 - tp: 23483.0000 - tn: 8726.0000 - fp: 2976.0000 - fn: 2309.0000 - precision: 0.8875 - recall: 0.9105 - auc: 0.8376\n",
      "Epoch 25/40\n",
      "38/38 [==============================] - 0s 2ms/step - loss: 9.4094 - accuracy: 0.8650 - tp: 23652.0000 - tn: 8779.0000 - fp: 2923.0000 - fn: 2140.0000 - precision: 0.8900 - recall: 0.9170 - auc: 0.8437\n",
      "Epoch 26/40\n",
      "38/38 [==============================] - 0s 1ms/step - loss: 9.7204 - accuracy: 0.8569 - tp: 23466.0000 - tn: 8663.0000 - fp: 3039.0000 - fn: 2326.0000 - precision: 0.8853 - recall: 0.9098 - auc: 0.8359\n",
      "Epoch 27/40\n",
      "38/38 [==============================] - 0s 2ms/step - loss: 8.6433 - accuracy: 0.8620 - tp: 23560.0000 - tn: 8760.0000 - fp: 2942.0000 - fn: 2232.0000 - precision: 0.8890 - recall: 0.9135 - auc: 0.8418\n",
      "Epoch 28/40\n",
      "38/38 [==============================] - 0s 1ms/step - loss: 11.1012 - accuracy: 0.8489 - tp: 23345.0000 - tn: 8485.0000 - fp: 3217.0000 - fn: 2447.0000 - precision: 0.8789 - recall: 0.9051 - auc: 0.8246\n",
      "Epoch 29/40\n",
      "38/38 [==============================] - 0s 1ms/step - loss: 7.4762 - accuracy: 0.8689 - tp: 23594.0000 - tn: 8986.0000 - fp: 2716.0000 - fn: 2198.0000 - precision: 0.8968 - recall: 0.9148 - auc: 0.8534\n",
      "Epoch 30/40\n",
      "38/38 [==============================] - 0s 2ms/step - loss: 12.0652 - accuracy: 0.8404 - tp: 23232.0000 - tn: 8277.0000 - fp: 3425.0000 - fn: 2560.0000 - precision: 0.8715 - recall: 0.9007 - auc: 0.8125\n",
      "Epoch 31/40\n",
      "38/38 [==============================] - 0s 2ms/step - loss: 9.7853 - accuracy: 0.8571 - tp: 23511.0000 - tn: 8626.0000 - fp: 3076.0000 - fn: 2281.0000 - precision: 0.8843 - recall: 0.9116 - auc: 0.8346\n",
      "Epoch 32/40\n",
      "38/38 [==============================] - 0s 2ms/step - loss: 8.2965 - accuracy: 0.8667 - tp: 23565.0000 - tn: 8931.0000 - fp: 2771.0000 - fn: 2227.0000 - precision: 0.8948 - recall: 0.9137 - auc: 0.8486\n",
      "Epoch 33/40\n",
      "38/38 [==============================] - 0s 2ms/step - loss: 10.3886 - accuracy: 0.8506 - tp: 23391.0000 - tn: 8500.0000 - fp: 3202.0000 - fn: 2401.0000 - precision: 0.8796 - recall: 0.9069 - auc: 0.8262\n",
      "Epoch 34/40\n",
      "38/38 [==============================] - 0s 2ms/step - loss: 6.9846 - accuracy: 0.8740 - tp: 23725.0000 - tn: 9045.0000 - fp: 2657.0000 - fn: 2067.0000 - precision: 0.8993 - recall: 0.9199 - auc: 0.8579\n",
      "Epoch 35/40\n",
      "38/38 [==============================] - 0s 2ms/step - loss: 6.9849 - accuracy: 0.8689 - tp: 23573.0000 - tn: 9005.0000 - fp: 2697.0000 - fn: 2219.0000 - precision: 0.8973 - recall: 0.9140 - auc: 0.8541\n",
      "Epoch 36/40\n",
      "38/38 [==============================] - 0s 2ms/step - loss: 8.2644 - accuracy: 0.8611 - tp: 23521.0000 - tn: 8765.0000 - fp: 2937.0000 - fn: 2271.0000 - precision: 0.8890 - recall: 0.9119 - auc: 0.8408\n",
      "Epoch 37/40\n",
      "38/38 [==============================] - 0s 2ms/step - loss: 9.2501 - accuracy: 0.8557 - tp: 23395.0000 - tn: 8690.0000 - fp: 3012.0000 - fn: 2397.0000 - precision: 0.8859 - recall: 0.9071 - auc: 0.8349\n",
      "Epoch 38/40\n",
      "38/38 [==============================] - 0s 2ms/step - loss: 6.2895 - accuracy: 0.8737 - tp: 23728.0000 - tn: 9030.0000 - fp: 2672.0000 - fn: 2064.0000 - precision: 0.8988 - recall: 0.9200 - auc: 0.8582\n",
      "Epoch 39/40\n",
      "38/38 [==============================] - 0s 2ms/step - loss: 5.4331 - accuracy: 0.8801 - tp: 23775.0000 - tn: 9223.0000 - fp: 2479.0000 - fn: 2017.0000 - precision: 0.9056 - recall: 0.9218 - auc: 0.8682\n",
      "Epoch 40/40\n",
      "38/38 [==============================] - 0s 2ms/step - loss: 7.7751 - accuracy: 0.8591 - tp: 23444.0000 - tn: 8768.0000 - fp: 2934.0000 - fn: 2348.0000 - precision: 0.8888 - recall: 0.9090 - auc: 0.8408\n"
     ]
    }
   ],
   "source": [
    "# Fitting the model, with specific batch size and epochs \n",
    "batch_size = 1000\n",
    "epochs = 40\n",
    "model = nn.fit(\n",
    "    X_train,\n",
    "    y_train,\n",
    "    epochs=epochs,\n",
    "    batch_size=batch_size,\n",
    "    verbose=1,\n",
    ")"
   ]
  },
  {
   "cell_type": "code",
   "execution_count": null,
   "id": "81aa991c-b997-4631-83a8-f71610969beb",
   "metadata": {},
   "outputs": [],
   "source": [
    "# Calculating the auc metrics and ploting the roc_curve "
   ]
  },
  {
   "cell_type": "code",
   "execution_count": 25,
   "id": "3d35c58f-b950-4a79-bf5e-ce32c6c3ed81",
   "metadata": {},
   "outputs": [],
   "source": [
    "# Import the roc_curve and auc metrics from sklearn\n",
    "from sklearn.metrics import roc_curve, auc"
   ]
  },
  {
   "cell_type": "code",
   "execution_count": 27,
   "id": "3b0bc358-965e-49fb-a591-224bd6fd7e9b",
   "metadata": {},
   "outputs": [
    {
     "name": "stdout",
     "output_type": "stream",
     "text": [
      "38/38 [==============================] - 0s 930us/step\n",
      "13/13 [==============================] - 0s 833us/step\n"
     ]
    }
   ],
   "source": [
    "# Making predictions to feed the roc_curve module\n",
    "train_predictions = nn.predict(X_train, batch_size=1000)\n",
    "test_predictions = nn.predict(X_test, batch_size=1000)"
   ]
  },
  {
   "cell_type": "code",
   "execution_count": 28,
   "id": "8dc4a154-4429-4880-857a-3e4527b5cced",
   "metadata": {},
   "outputs": [],
   "source": [
    "# Calculate the ROC curve and AUC for the training set\n",
    "fpr_train, tpr_train, thresholds_train = roc_curve(y_train, train_predictions)\n",
    "auc_train = auc(fpr_train, tpr_train)\n",
    "auc_train = round(auc_train, 4)\n",
    "\n",
    "# Calculate the ROC curve and AUC for the testing set\n",
    "fpr_test, tpr_test, thresholds_test = roc_curve(y_test, test_predictions)\n",
    "auc_test = auc(fpr_test, tpr_test)\n",
    "auc_test = round(auc_test, 4)"
   ]
  },
  {
   "cell_type": "code",
   "execution_count": 29,
   "id": "534552ca-2a73-4462-b969-df0026aaa12a",
   "metadata": {},
   "outputs": [],
   "source": [
    "# Create a DataFrame with the fpr and tpr results\n",
    "roc_df_train = pd.DataFrame({\"FPR Train\": fpr_train, \"TPR Train\": tpr_train,})\n",
    "\n",
    "roc_df_test = pd.DataFrame({\"FPR Test\": fpr_test, \"TPR Test\": tpr_test,})"
   ]
  },
  {
   "cell_type": "code",
   "execution_count": 30,
   "id": "197f720d-4fd5-44c3-a610-2f380d1b408d",
   "metadata": {},
   "outputs": [
    {
     "data": {
      "text/plain": [
       "<AxesSubplot:title={'center':'Test ROC Curve (AUC=0.8702)'}, xlabel='FPR Test'>"
      ]
     },
     "execution_count": 30,
     "metadata": {},
     "output_type": "execute_result"
    },
    {
     "data": {
      "image/png": "[encoded data removed]",
      "text/plain": [
       "<Figure size 432x288 with 1 Axes>"
      ]
     },
     "metadata": {
      "needs_background": "light"
     },
     "output_type": "display_data"
    },
    {
     "data": {
      "image/png": "[encoded data removed]",
      "text/plain": [
       "<Figure size 432x288 with 1 Axes>"
      ]
     },
     "metadata": {
      "needs_background": "light"
     },
     "output_type": "display_data"
    }
   ],
   "source": [
    "# Plotting the ROC Curves\n",
    "roc_df_train.plot(\n",
    "    x=\"FPR Train\",\n",
    "    y=\"TPR Train\",\n",
    "    xlim=([-0.05, 1.05]),\n",
    "    title=f\"Train ROC Curve (AUC={auc_train})\",\n",
    ")\n",
    "\n",
    "roc_df_test.plot(\n",
    "    x=\"FPR Test\",\n",
    "    y=\"TPR Test\",\n",
    "    color=\"red\",\n",
    "    style=\"--\",\n",
    "    xlim=([-0.05, 1.05]),\n",
    "    title=f\"Test ROC Curve (AUC={auc_test})\",\n",
    ")"
   ]
  },
  {
   "cell_type": "code",
   "execution_count": 33,
   "id": "1deaf0ba-ab91-40eb-8540-4cd881e027be",
   "metadata": {},
   "outputs": [
    {
     "data": {
      "text/plain": [
       "{'loss': 6.454841136932373,\n",
       " 'accuracy': 0.8664586544036865,\n",
       " 'tp': 8128.0,\n",
       " 'tn': 2701.0,\n",
       " 'fp': 1181.0,\n",
       " 'fn': 488.0,\n",
       " 'precision': 0.8731335401535034,\n",
       " 'recall': 0.9433611631393433,\n",
       " 'auc': 0.8345995545387268}"
      ]
     },
     "metadata": {},
     "output_type": "display_data"
    }
   ],
   "source": [
    "# Evaluate the model\n",
    "scores = nn.evaluate(X_test, y_test, verbose=0)\n",
    "\n",
    "# Define metrics dictionary\n",
    "metrics = {k: v for k, v in zip(nn.metrics_names, scores)}\n",
    "\n",
    "# Display evaluation metrics results\n",
    "display(metrics)"
   ]
  },
  {
   "cell_type": "code",
   "execution_count": 34,
   "id": "1b9471af-21fa-4cc3-ba31-f544069db582",
   "metadata": {},
   "outputs": [
    {
     "data": {
      "text/html": [
       "<div>\n",
       "<style scoped>\n",
       "    .dataframe tbody tr th:only-of-type {\n",
       "        vertical-align: middle;\n",
       "    }\n",
       "\n",
       "    .dataframe tbody tr th {\n",
       "        vertical-align: top;\n",
       "    }\n",
       "\n",
       "    .dataframe thead th {\n",
       "        text-align: right;\n",
       "    }\n",
       "</style>\n",
       "<table border=\"1\" class=\"dataframe\">\n",
       "  <thead>\n",
       "    <tr style=\"text-align: right;\">\n",
       "      <th>Predicted</th>\n",
       "      <th>Positive (1)</th>\n",
       "      <th>Negative (0)</th>\n",
       "    </tr>\n",
       "    <tr>\n",
       "      <th>Actual</th>\n",
       "      <th></th>\n",
       "      <th></th>\n",
       "    </tr>\n",
       "  </thead>\n",
       "  <tbody>\n",
       "    <tr>\n",
       "      <th>Positive(1)</th>\n",
       "      <td>TP=8128.0</td>\n",
       "      <td>FN=1181.0</td>\n",
       "    </tr>\n",
       "    <tr>\n",
       "      <th>Negative(0)</th>\n",
       "      <td>FP=488.0</td>\n",
       "      <td>TN=2701.0</td>\n",
       "    </tr>\n",
       "  </tbody>\n",
       "</table>\n",
       "</div>"
      ],
      "text/plain": [
       "Predicted   Positive (1) Negative (0)\n",
       "Actual                               \n",
       "Positive(1)    TP=8128.0    FN=1181.0\n",
       "Negative(0)     FP=488.0    TN=2701.0"
      ]
     },
     "execution_count": 34,
     "metadata": {},
     "output_type": "execute_result"
    }
   ],
   "source": [
    "# Define the confusion matrix data\n",
    "cm_df = pd.DataFrame(\n",
    "    {\n",
    "        \"Positive (1)\": [f\"TP={metrics['tp']}\", f\"FP={metrics['fn']}\"],\n",
    "        \"Negative (0)\": [f\"FN={metrics['fp']}\", f\"TN={metrics['tn']}\"],\n",
    "    },\n",
    "    index=[\"Positive(1)\", \"Negative(0)\"],\n",
    ")\n",
    "cm_df.index.name = \"Actual\"\n",
    "cm_df.columns.name = \"Predicted\"\n",
    "\n",
    "# Show the confusion matrix\n",
    "cm_df"
   ]
  },
  {
   "cell_type": "code",
   "execution_count": 36,
   "id": "bc88f189-73b9-4415-9130-d1304c2eb779",
   "metadata": {},
   "outputs": [
    {
     "name": "stdout",
     "output_type": "stream",
     "text": [
      "391/391 [==============================] - 0s 722us/step\n",
      "              precision    recall  f1-score   support\n",
      "\n",
      "           0       0.70      0.85      0.76      3189\n",
      "           1       0.94      0.87      0.91      9309\n",
      "\n",
      "    accuracy                           0.87     12498\n",
      "   macro avg       0.82      0.86      0.84     12498\n",
      "weighted avg       0.88      0.87      0.87     12498\n",
      "\n"
     ]
    }
   ],
   "source": [
    "# Import the classification_report method from sklearn\n",
    "from sklearn.metrics import classification_report\n",
    "\n",
    "# Predict classes using testing data\n",
    "y_predict_classes = (nn.predict(X_test) > 0.5).astype(\"int32\")\n",
    "\n",
    "# Display classification report\n",
    "print(classification_report(y_predict_classes, y_test))"
   ]
  },
  {
   "cell_type": "code",
   "execution_count": null,
   "id": "74c15ce9-af5f-4fd2-91ff-1f543fd957e9",
   "metadata": {},
   "outputs": [],
   "source": []
  },
  {
   "cell_type": "code",
   "execution_count": null,
   "id": "3ea3abd0-99ee-4ffe-a83f-431b702bb117",
   "metadata": {},
   "outputs": [],
   "source": []
  }
 ],
 "metadata": {
  "kernelspec": {
   "display_name": "Python 3 (ipykernel)",
   "language": "python",
   "name": "python3"
  },
  "language_info": {
   "codemirror_mode": {
    "name": "ipython",
    "version": 3
   },
   "file_extension": ".py",
   "mimetype": "text/x-python",
   "name": "python",
   "nbconvert_exporter": "python",
   "pygments_lexer": "ipython3",
   "version": "3.7.13"
  }
 },
 "nbformat": 4,
 "nbformat_minor": 5
}
